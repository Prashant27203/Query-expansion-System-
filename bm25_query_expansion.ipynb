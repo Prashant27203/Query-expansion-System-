{
  "nbformat": 4,
  "nbformat_minor": 0,
  "metadata": {
    "colab": {
      "provenance": [],
      "authorship_tag": "ABX9TyN84Gd1hkP8fIABeIYaBHRd",
      "include_colab_link": true
    },
    "kernelspec": {
      "name": "python3",
      "display_name": "Python 3"
    },
    "language_info": {
      "name": "python"
    }
  },
  "cells": [
    {
      "cell_type": "markdown",
      "metadata": {
        "id": "view-in-github",
        "colab_type": "text"
      },
      "source": [
        "<a href=\"https://colab.research.google.com/github/Prashant27203/Query-expansion-System-/blob/main/bm25_query_expansion.ipynb\" target=\"_parent\"><img src=\"https://colab.research.google.com/assets/colab-badge.svg\" alt=\"Open In Colab\"/></a>"
      ]
    },
    {
      "cell_type": "code",
      "execution_count": 2,
      "metadata": {
        "id": "OWkiaCO9CDjd",
        "colab": {
          "base_uri": "https://localhost:8080/"
        },
        "outputId": "0a315b2a-4179-4f94-e38a-6bb0e512acee"
      },
      "outputs": [
        {
          "output_type": "stream",
          "name": "stdout",
          "text": [
            "Looking in indexes: https://pypi.org/simple, https://us-python.pkg.dev/colab-wheels/public/simple/\n",
            "Collecting rank_bm25\n",
            "  Downloading rank_bm25-0.2.2-py3-none-any.whl (8.6 kB)\n",
            "Requirement already satisfied: numpy in /usr/local/lib/python3.9/dist-packages (from rank_bm25) (1.22.4)\n",
            "Installing collected packages: rank_bm25\n",
            "Successfully installed rank_bm25-0.2.2\n"
          ]
        }
      ],
      "source": [
        "!pip install rank_bm25\n",
        "import pandas as pd\n",
        "import numpy as np\n",
        "import nltk\n",
        "from nltk.corpus import stopwords\n",
        "from nltk.stem import WordNetLemmatizer\n",
        "from sklearn.feature_extraction.text import TfidfVectorizer\n",
        "from rank_bm25 import BM25Okapi"
      ]
    },
    {
      "cell_type": "code",
      "source": [
        "# Load the news dataset\n",
        "news_df = pd.read_csv('BBCNews.csv')"
      ],
      "metadata": {
        "id": "lqhWT4yWCUpP"
      },
      "execution_count": 3,
      "outputs": []
    },
    {
      "cell_type": "code",
      "source": [
        "# Define synonyms for the different types of news\n",
        "synonyms = {\n",
        "    'sports': ['sports', 'athletics', 'games', 'competitions', 'matches', 'cricket', 'football', 'soccer', 'hockey'],\n",
        "    'politics': ['politics', 'government', 'elections', 'democracy', 'parliament', 'congress', 'senate', 'leadership'],\n",
        "    'entertainment': ['entertainment', 'celebrities', 'movies', 'films', 'television', 'music', 'arts', 'culture'],\n",
        "    'technology': ['technology', 'science', 'innovation', 'computers', 'gadgets', 'internet', 'artificial intelligence', 'cybersecurity'],\n",
        "    'business': ['business', 'economy', 'finance', 'markets', 'investment', 'commerce', 'trade', 'industry']\n",
        "}"
      ],
      "metadata": {
        "id": "3u5U3fPHGwGo"
      },
      "execution_count": 5,
      "outputs": []
    },
    {
      "cell_type": "code",
      "source": [
        "# Downloading necessary NLTK resources\n",
        "nltk.download('omw-1.4')\n",
        "nltk.download('punkt')\n",
        "nltk.download('stopwords')\n",
        "nltk.download('wordnet')"
      ],
      "metadata": {
        "colab": {
          "base_uri": "https://localhost:8080/"
        },
        "id": "stsaaud1GzEV",
        "outputId": "6f162230-32aa-4d26-f9ec-261f928b2f53"
      },
      "execution_count": 6,
      "outputs": [
        {
          "output_type": "stream",
          "name": "stderr",
          "text": [
            "[nltk_data] Downloading package omw-1.4 to /root/nltk_data...\n",
            "[nltk_data] Downloading package punkt to /root/nltk_data...\n",
            "[nltk_data]   Unzipping tokenizers/punkt.zip.\n",
            "[nltk_data] Downloading package stopwords to /root/nltk_data...\n",
            "[nltk_data]   Unzipping corpora/stopwords.zip.\n",
            "[nltk_data] Downloading package wordnet to /root/nltk_data...\n"
          ]
        },
        {
          "output_type": "execute_result",
          "data": {
            "text/plain": [
              "True"
            ]
          },
          "metadata": {},
          "execution_count": 6
        }
      ]
    },
    {
      "cell_type": "code",
      "source": [
        "# Reading the CSV file and preprocessing the data\n",
        "lemmatizer = WordNetLemmatizer()\n",
        "\n",
        "def preprocess(text):\n",
        "    tokens = nltk.word_tokenize(text)\n",
        "    tokens = [token.lower() for token in tokens if token.isalpha()]\n",
        "    tokens = [lemmatizer.lemmatize(token) for token in tokens if token not in stopwords.words('english')]\n",
        "    return ' '.join(tokens)\n",
        "\n",
        "news_df['tags'] = news_df['tags'].astype(str)\n",
        "news_df['tags'] = news_df['tags'].apply(lambda x: preprocess(x) if isinstance(x, str) else '')\n",
        "news_df['descr'] = news_df['descr'].astype(str)\n",
        "news_df['descr'] = news_df['descr'].apply(lambda x: preprocess(x) if isinstance(x, str) else '')\n"
      ],
      "metadata": {
        "id": "x_itxCJBG2yi"
      },
      "execution_count": 7,
      "outputs": []
    },
    {
      "cell_type": "code",
      "source": [
        "# Define a function to map each category to its base type\n",
        "def get_base_category(tag):\n",
        "    tag_list = tag.split(' ')\n",
        "    for t in tag_list:\n",
        "        for base_category, syn_list in synonyms.items():\n",
        "            if t.lower() in syn_list:\n",
        "                return base_category\n",
        "    return 'other'"
      ],
      "metadata": {
        "id": "7g_acP6JG639"
      },
      "execution_count": 8,
      "outputs": []
    },
    {
      "cell_type": "code",
      "source": [
        "!pip install rank_bm25"
      ],
      "metadata": {
        "colab": {
          "base_uri": "https://localhost:8080/"
        },
        "id": "6JLrKxrJIb9y",
        "outputId": "581b9597-5384-488b-ee5e-4efc862798b3"
      },
      "execution_count": null,
      "outputs": [
        {
          "output_type": "stream",
          "name": "stdout",
          "text": [
            "Looking in indexes: https://pypi.org/simple, https://us-python.pkg.dev/colab-wheels/public/simple/\n",
            "Requirement already satisfied: rank_bm25 in /usr/local/lib/python3.9/dist-packages (0.2.2)\n",
            "Requirement already satisfied: numpy in /usr/local/lib/python3.9/dist-packages (from rank_bm25) (1.22.4)\n"
          ]
        }
      ]
    },
    {
      "cell_type": "code",
      "source": [
        "from sklearn.preprocessing import LabelEncoder\n",
        "\n",
        "def preprocess_news(news_df):\n",
        "    # Remove null values\n",
        "    news_df = news_df.dropna()\n",
        "\n",
        "    # Map each tag to its base category\n",
        "    news_df['tags'] = news_df['tags'].apply(get_base_category)\n",
        "\n",
        "    # Create a BM25 vectorizer object\n",
        "    tokenized_corpus = [doc.split(\" \") for doc in news_df['descr']]\n",
        "    bm25 = BM25Okapi(tokenized_corpus)\n",
        "\n",
        "    # Define a label encoder to convert categories to integers\n",
        "    le = LabelEncoder()\n",
        "\n",
        "    # Fit the label encoder on the unique categories in the dataset\n",
        "    le.fit(news_df['tags'].unique())\n",
        "\n",
        "    # Map each tag to its base category\n",
        "    news_df['tags'] = news_df['tags'].apply(get_base_category)\n",
        "\n",
        "    # Convert the categories to integers using the label encoder\n",
        "    labels = le.transform(news_df['tags'].values)\n",
        "    predicted_labels = []\n",
        "    for i in range(len(tokenized_corpus)):\n",
        "        # Get the top k documents using BM25\n",
        "        k = 10\n",
        "        doc_scores = bm25.get_scores(tokenized_corpus[i])\n",
        "        top_k_idx = np.argsort(doc_scores)[::-1][:k]\n",
        "\n",
        "        # Get the categories for the top k documents\n",
        "        top_k_categories = labels[top_k_idx]\n",
        "\n",
        "        # Find the most common category among the top k categories\n",
        "        predicted_category = np.bincount(top_k_categories, minlength=len(synonyms)).argmax()\n",
        "\n",
        "        predicted_labels.append(predicted_category)\n",
        "\n",
        "    # Calculate the accuracy of the model\n",
        "    accuracy = (predicted_labels == labels).mean()\n",
        "    print(\"Accuracy: \",accuracy*100,\"%\")\n"
      ],
      "metadata": {
        "id": "SL2Dn4QCHgRB"
      },
      "execution_count": 11,
      "outputs": []
    },
    {
      "cell_type": "code",
      "source": [
        "preprocess_news(news_df)"
      ],
      "metadata": {
        "colab": {
          "base_uri": "https://localhost:8080/"
        },
        "id": "X30qziQUJPU1",
        "outputId": "cba28ceb-c167-42c7-9a65-a3d8c0dc560a"
      },
      "execution_count": 12,
      "outputs": [
        {
          "output_type": "stream",
          "name": "stdout",
          "text": [
            "Accuracy:  88.83817427385891 %\n"
          ]
        }
      ]
    },
    {
      "cell_type": "code",
      "source": [],
      "metadata": {
        "id": "6K7R__JZfnYb"
      },
      "execution_count": null,
      "outputs": []
    }
  ]
}